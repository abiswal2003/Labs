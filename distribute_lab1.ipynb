{
 "cells": [
  {
   "cell_type": "markdown",
   "metadata": {},
   "source": [
    "# Lab 1: Dictionaries and Classes"
   ]
  },
  {
   "cell_type": "markdown",
   "metadata": {},
   "source": [
    "## EXERCISE 1: Count words in Julius Caesar and make a text based histogram\n",
    "\n",
    "Building on the first lab, using lowercase words, lets make a histogram. Create a dictionary `worddict`, that has the counts of all the words in Caesar."
   ]
  },
  {
   "cell_type": "code",
   "execution_count": 6,
   "metadata": {},
   "outputs": [
    {
     "name": "stdout",
     "output_type": "stream",
     "text": [
      "the                  858\n",
      "and                  763\n",
      "of                   569\n",
      "to                   539\n",
      "i                    504\n",
      "you                  459\n",
      "a                    345\n",
      "brutus               324\n",
      "that                 313\n",
      "is                   298\n",
      "in                   294\n",
      "not                  287\n",
      "p                    256\n",
      "for                  242\n",
      "with                 216\n",
      "this                 213\n",
      "cassius              200\n",
      "it                   197\n",
      "caesar               189\n",
      "my                   189\n",
      "the                  #####################################################################################\n",
      "and                  ############################################################################\n",
      "of                   ########################################################\n",
      "to                   #####################################################\n",
      "i                    ##################################################\n",
      "you                  #############################################\n",
      "a                    ##################################\n",
      "brutus               ################################\n",
      "that                 ###############################\n",
      "is                   #############################\n",
      "in                   #############################\n",
      "not                  ############################\n",
      "p                    #########################\n",
      "for                  ########################\n",
      "with                 #####################\n",
      "this                 #####################\n",
      "cassius              ####################\n",
      "it                   ###################\n",
      "caesar               ##################\n",
      "my                   ##################\n"
     ]
    }
   ],
   "source": [
    "# your code here\n",
    "import string\n",
    "\n",
    "def read_and_count_words(file_path):\n",
    "    word_count = {}\n",
    "    with open(file_path, 'r', encoding='utf-8') as file:\n",
    "        for line in file:\n",
    "            # Remove punctuation and convert to lowercase\n",
    "            line = line.translate(str.maketrans('', '', string.punctuation)).lower()\n",
    "            words = line.split()\n",
    "            for word in words:\n",
    "                if word in word_count:\n",
    "                    word_count[word] += 1\n",
    "                else:\n",
    "                    word_count[word] = 1\n",
    "    return word_count\n",
    "\n",
    "def print_top_words(word_count, top_n=20):\n",
    "    # Sort words by frequency in descending order\n",
    "    sorted_words = sorted(word_count.items(), key=lambda x: x[1], reverse=True)\n",
    "    for word, count in sorted_words[:top_n]:\n",
    "        print(f\"{word:20} {count}\")\n",
    "\n",
    "def print_histogram(word_count, top_n=20):\n",
    "    sorted_words = sorted(word_count.items(), key=lambda x: x[1], reverse=True)\n",
    "    for word, count in sorted_words[:top_n]:\n",
    "        print(f\"{word:20} {'#' * (count // 10)}\")\n",
    "\n",
    "# Specify the path to your text file\n",
    "file_path = 'julius_caesar.txt'\n",
    "\n",
    "# Process the file\n",
    "word_count = read_and_count_words(file_path)\n",
    "\n",
    "# Print top words and their counts\n",
    "print_top_words(word_count)\n",
    "\n",
    "# Print a histogram\n",
    "print_histogram(word_count)"
   ]
  },
  {
   "cell_type": "markdown",
   "metadata": {},
   "source": [
    "Now here is where the iterative nature of dictionaries can be used to our benefit. We sort the worddict, using the function `worddict.get` to provide the values, which are the counts."
   ]
  },
  {
   "cell_type": "markdown",
   "metadata": {},
   "source": [
    "You can even make a hacky histogram for this by creating a '#' for every 10 occurences"
   ]
  },
  {
   "cell_type": "code",
   "execution_count": 9,
   "metadata": {},
   "outputs": [
    {
     "name": "stdout",
     "output_type": "stream",
     "text": [
      "Word Frequency Histogram\n",
      "------------------------\n",
      "0: #####################################################################################################################################################################################################################################################################################################\n",
      "1: #############################################################################\n",
      "data-view-component=\"true\": ####################\n",
      "1.75: ################\n",
      "<div: #############\n",
      "16: #############\n",
      "aria-hidden=\"true\": #############\n",
      "viewbox=\"0: ############\n",
      "16\": ###########\n",
      "height=\"16\": ###########\n",
      "width=\"16\": ###########\n",
      "class=\"octicon: ###########\n",
      "</div>: ##########\n",
      "version=\"1.1\": ##########\n",
      "<path: ##########\n",
      "<svg: ##########\n",
      "</svg>: #########\n",
      "to: #########\n",
      "crossorigin=\"anonymous\": ########\n",
      "<a: #######\n",
      "<script: #######\n",
      "1.5: #######\n",
      "defer=\"defer\": ######\n",
      "type=\"application/javascript\": ######\n",
      "2: ######\n",
      "<span: #####\n",
      "8: #####\n",
      "class=\"box-sc-g0xbh4-0: #####\n",
      "2.25: ####\n",
      ">: ###\n",
      "no-underline: ###\n",
      "position-relative: ###\n",
      "<template: ###\n",
      "</template>: ###\n",
      "<meta: ###\n",
      "d-block: ###\n",
      "</a></li>: ###\n",
      "<li>: ###\n",
      "py-2: ###\n",
      "2.784: ###\n",
      "go: ###\n",
      "3.75: ###\n",
      ".784: ###\n",
      "data-analytics-event=\"{&quot;category&quot;:&quot;header: ##\n",
      "(logged: ##\n",
      "type=\"button\": ##\n",
      "class=\"headermenu-dropdown-link: ##\n",
      "lh-condensed: ##\n",
      "dropdown: ##\n",
      "out),: ##\n",
      "@media: ##\n",
      "and: ##\n",
      "<li: ##\n",
      "d-flex: ##\n",
      "flex-items-center: ##\n",
      "1-1.5: ##\n",
      "focusable=\"false\": ##\n",
      "fill=\"currentcolor\": ##\n",
      "style=\"display:inline-block;user-select:none;vertical-align:text-bottom;overflow:visible\"><path: ##\n",
      "</a>: ##\n",
      "</li>: ##\n",
      "role=\"img\": ##\n",
      "<button: ##\n",
      "<link: ##\n",
      "/>: ##\n",
      "/><meta: ##\n",
      "d=\"m8: ##\n",
      "0z\"></path>: ##\n",
      "6.5: ##\n",
      "3: ##\n",
      "1-1.042-.018.751.751: #\n",
      "screen: #\n",
      "1px: #\n",
      "1.06: #\n",
      "link--secondary\": #\n",
      "6: #\n",
      "3.5: #\n",
      "[data-component=\"buttoncontent\"]: #\n",
      "</span>: #\n",
      "</button>: #\n",
      "1.75.784: #\n",
      "media=\"all\": #\n",
      "rel=\"stylesheet\": #\n",
      "<ul: #\n",
      "14.25: #\n",
      "9: #\n",
      "1.275.749.749: #\n",
      "d=\"m2: #\n",
      ".75.75: #\n",
      "solid: #\n",
      "class=\"skeleton: #\n",
      "0-.25.25v12.5c0: #\n",
      "</ul>: #\n",
      "1-.326: #\n",
      "14.25zm1.75-.25a.25.25: #\n",
      "13.25: #\n",
      "0-1.5: #\n",
      "skeleton--text\">: #\n",
      ".909.184: #\n",
      "1.237.513l2.914: #\n",
      "2.914c.329.328.513.773.513: #\n",
      ".25-.25v6h-2.75a1.75: #\n",
      "class=\"link--secondary: #\n",
      "in: #\n",
      "product&quot;,&quot;action&quot;:&quot;click: #\n",
      "9.5: #\n",
      "2.5: #\n",
      "4: #\n",
      "mr-2\">: #\n",
      "2.251: #\n",
      "1.5.75.75: #\n",
      "1.998: #\n",
      "var(--fgcolor-accent,var(--color-accent-fg,#0969da));outline-offset:-2px;}/*!sc*/: #\n",
      ":not(:last-child){margin-right:8px;}/*!sc*/: #\n",
      "class=\"react-directory-filename-column\"><svg: #\n",
      "class=\"color-fg-muted\": #\n",
      "1.75c2: #\n",
      "0h6.586c.464: #\n",
      "1.237v9.586a1.75: #\n",
      "16h-9.5a1.75: #\n",
      ".138.112.25.25.25h9.5a.25.25: #\n",
      "4.25v1.5zm6.75.062v4.25c0: #\n",
      ".138.112.25.25.25h2.688l-.011-.013-2.914-2.914-.013-.011z\"></path></svg><div: #\n",
      "class=\"overflow-hidden\"><h3><div: #\n",
      "class=\"react-directory-truncate\"><a: #\n",
      "(file)\": #\n",
      "class=\"link--primary\": #\n",
      "no-wrap: #\n",
      "1-1.06: #\n",
      "<div>: #\n",
      "class=\"color-fg-default: #\n",
      "solutions&quot;,&quot;action&quot;:&quot;click: #\n",
      "\": #\n",
      "hidden=\"hidden\": #\n",
      "1.042.018.751.751: #\n",
      ".018: #\n",
      "d=\"m0: #\n",
      "class=\"d-flex: #\n",
      "link--secondary: #\n",
      "mr-3\">: #\n",
      "1-2: #\n",
      "1.5h-.5a.75.75: #\n",
      ".138.112.25.25.25h8.5a.25.25: #\n",
      "0-1.06z\"></path>: #\n",
      "be: #\n",
      "d-none: #\n",
      "signed: #\n",
      ".fruydv: #\n",
      "class=\"types__styledbutton-sc-ws60qy-0: #\n"
     ]
    }
   ],
   "source": [
    "import requests\n",
    "\n",
    "def load_and_count_words_from_url(url):\n",
    "    response = requests.get(url)\n",
    "    response.raise_for_status()  # Ensure the request was successful\n",
    "    text = response.text\n",
    "    word_dict = {}\n",
    "    for line in text.split('\\n'):\n",
    "        line = line.strip()  # Remove newline characters\n",
    "        line_words = line.split()  # Split the line into words\n",
    "        for word in line_words:\n",
    "            lower_word = word.lower()  # Convert word to lowercase\n",
    "            if lower_word in word_dict:\n",
    "                word_dict[lower_word] += 1\n",
    "            else:\n",
    "                word_dict[lower_word] = 1\n",
    "    return word_dict\n",
    "\n",
    "def sort_word_counts(word_dict):\n",
    "    # Create a sorted list of tuples from the dictionary\n",
    "    sorted_word_counts = sorted(word_dict.items(), key=lambda item: item[1], reverse=True)\n",
    "    return sorted_word_counts\n",
    "\n",
    "def print_histogram(sorted_words):\n",
    "    print(\"Word Frequency Histogram\")\n",
    "    print(\"------------------------\")\n",
    "    for word, count in sorted_words:\n",
    "        # Generate hashes: each hash represents 10 occurrences\n",
    "        hashes = '#' * (count // 10)\n",
    "        if hashes:  # Only print if there are hashes to display\n",
    "            print(f\"{word}: {hashes}\")\n",
    "\n",
    "def main():\n",
    "    # URL to the raw text file in your GitHub repository\n",
    "    url = 'https://github.com/veroaba/Labs.git'\n",
    "    word_counts = load_and_count_words_from_url(url)\n",
    "    sorted_words = sort_word_counts(word_counts)\n",
    "    print_histogram(sorted_words)\n",
    "\n",
    "main()"
   ]
  },
  {
   "cell_type": "markdown",
   "metadata": {},
   "source": [
    "## EXERCISE 2: Simulate a Bank Account"
   ]
  },
  {
   "cell_type": "code",
   "execution_count": 5,
   "metadata": {},
   "outputs": [],
   "source": [
    "class BankAccount:\n",
    "    def __init__(self, balance):\n",
    "        self.balance = balance\n",
    "        \n",
    "    def withdraw(self, amount):\n",
    "        self.balance = self.balance - amount"
   ]
  },
  {
   "cell_type": "code",
   "execution_count": 6,
   "metadata": {},
   "outputs": [
    {
     "name": "stdout",
     "output_type": "stream",
     "text": [
      "100\n"
     ]
    },
    {
     "data": {
      "text/plain": [
       "80"
      ]
     },
     "execution_count": 6,
     "metadata": {},
     "output_type": "execute_result"
    }
   ],
   "source": [
    "myaccount = BankAccount(100)\n",
    "print(myaccount.balance)\n",
    "myaccount.withdraw(20)\n",
    "myaccount.balance"
   ]
  },
  {
   "cell_type": "markdown",
   "metadata": {},
   "source": [
    "Python supports inheritance. Indeed, in python, all classes inherit from object, which means that they all get some attributes and methods from object.\n",
    "\n",
    "What is inheritance, more precisely? In inheritance an object is based on another object. When inheritance is implemented, the methods and attributes that were defined in the base class will also be present in the inherited class. This is generally done to abstract away similar code in multiple classes. The abstracted code will reside in the base class and the previous classes will now inherit from the base class.\n",
    "\n",
    "Let's look at an example of inheritance. In the following example, Rocket is the base class and MarsRover is the inherited class. Notice the string interpolation in the formatting as well."
   ]
  },
  {
   "cell_type": "code",
   "execution_count": 7,
   "metadata": {},
   "outputs": [],
   "source": [
    "class Rocket:\n",
    "    def __init__(self, name, distance):\n",
    "        self.name = name\n",
    "        self.distance = distance\n",
    "\n",
    "    def launch(self):\n",
    "        return \"%s has reached %s\" % (self.name, self.distance)\n",
    "    \n",
    "    def get_maker(self):\n",
    "        return \"%s Launched\" % self.name\n",
    "\n",
    "\n",
    "class MarsRover(Rocket): # inheriting from the base class\n",
    "    def __init__(self, name, distance, maker):\n",
    "        Rocket.__init__(self, name, distance)\n",
    "        self.maker = maker\n",
    "\n",
    "    def get_maker(self):\n",
    "        return \"%s Launched by %s\" % (self.name, self.maker)"
   ]
  },
  {
   "cell_type": "code",
   "execution_count": 8,
   "metadata": {},
   "outputs": [
    {
     "name": "stdout",
     "output_type": "stream",
     "text": [
      "Simple rocket has reached till stratosphere\n",
      "Mangalyaan has reached till Mars\n",
      "Simple rocket Launched\n",
      "Mangalyaan Launched by ISRO\n"
     ]
    }
   ],
   "source": [
    "x = Rocket(\"Simple rocket\", \"till stratosphere\")\n",
    "y = MarsRover(\"Mangalyaan\", \"till Mars\", \"ISRO\")\n",
    "print(x.launch())\n",
    "print(y.launch()) # dispatches to Ricket's launch\n",
    "print(x.get_maker())\n",
    "print(y.get_maker())"
   ]
  },
  {
   "cell_type": "markdown",
   "metadata": {},
   "source": [
    "`launch` is not defined by the derived class `MarsRover` so the `launch` for instance `y` is used from `Rocket`. On the other hand, `MarsRover` defines a new `get_maker` so that overrides the one from `Rocket`. Thus inheritance can be used to share functionality when needed and diversify when not."
   ]
  },
  {
   "cell_type": "markdown",
   "metadata": {},
   "source": [
    "Define an error checking bank account `ECBankAccount` which inherits from `BankAccount` but will not allow overdraws. If there is an overdraw raise a `ValueError` with a message \"Withdrawal Not Allowed\": read up on this. Create two accounts one regular and one he derived class instance and wihdraw more than the balance from both."
   ]
  },
  {
   "cell_type": "code",
   "execution_count": 9,
   "metadata": {},
   "outputs": [],
   "source": [
    "# youe code here\n",
    "class ECBankAccount:\n",
    "    def __init__(self, balance):\n",
    "        self.balance = balance\n",
    "        \n",
    "    def withdraw(self, amount):\n",
    "        check = self.balance - amount\n",
    "        if check >=0:\n",
    "            self.balance -= amount\n",
    "        else:\n",
    "            raise ValueError(\"Withdrawal Not Allowed\")"
   ]
  },
  {
   "cell_type": "code",
   "execution_count": 13,
   "metadata": {},
   "outputs": [
    {
     "data": {
      "text/plain": [
       "-100"
      ]
     },
     "execution_count": 13,
     "metadata": {},
     "output_type": "execute_result"
    }
   ],
   "source": [
    "x = BankAccount(100)\n",
    "x.withdraw(200)\n",
    "x.balance"
   ]
  },
  {
   "cell_type": "code",
   "execution_count": 10,
   "metadata": {},
   "outputs": [
    {
     "ename": "NameError",
     "evalue": "name 'ECBankAccount' is not defined",
     "output_type": "error",
     "traceback": [
      "\u001b[0;31m---------------------------------------------------------------------------\u001b[0m",
      "\u001b[0;31mNameError\u001b[0m                                 Traceback (most recent call last)",
      "Cell \u001b[0;32mIn[10], line 1\u001b[0m\n\u001b[0;32m----> 1\u001b[0m y \u001b[38;5;241m=\u001b[39m \u001b[43mECBankAccount\u001b[49m(\u001b[38;5;241m100\u001b[39m)\n\u001b[1;32m      2\u001b[0m y\u001b[38;5;241m.\u001b[39mwithdraw(\u001b[38;5;241m120\u001b[39m)\n",
      "\u001b[0;31mNameError\u001b[0m: name 'ECBankAccount' is not defined"
     ]
    }
   ],
   "source": [
    "y = ECBankAccount(100)\n",
    "y.withdraw(120)"
   ]
  },
  {
   "cell_type": "code",
   "execution_count": 15,
   "metadata": {},
   "outputs": [
    {
     "data": {
      "text/plain": [
       "100"
      ]
     },
     "execution_count": 15,
     "metadata": {},
     "output_type": "execute_result"
    }
   ],
   "source": [
    "y.balance"
   ]
  },
  {
   "cell_type": "code",
   "execution_count": null,
   "metadata": {},
   "outputs": [],
   "source": []
  }
 ],
 "metadata": {
  "kernelspec": {
   "display_name": "Python 3 (ipykernel)",
   "language": "python",
   "name": "python3"
  },
  "language_info": {
   "codemirror_mode": {
    "name": "ipython",
    "version": 3
   },
   "file_extension": ".py",
   "mimetype": "text/x-python",
   "name": "python",
   "nbconvert_exporter": "python",
   "pygments_lexer": "ipython3",
   "version": "3.12.3"
  }
 },
 "nbformat": 4,
 "nbformat_minor": 4
}
